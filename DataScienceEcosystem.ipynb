{
 "cells": [
  {
   "cell_type": "markdown",
   "id": "3c150f51-959f-45c7-b90d-97384d9488b8",
   "metadata": {},
   "source": [
    "# Data Science Tools and Ecosystem\n",
    "In this notebook, Data Science Tools and Ecosystem are summarized."
   ]
  },
  {
   "cell_type": "markdown",
   "id": "c19301a8-1932-4cc8-a410-cfa77659ad11",
   "metadata": {},
   "source": [
    "### Some of the popular languages that Data Scientists use are:\n",
    "1. Python\n",
    "2. R Language\n",
    "3. Java\n"
   ]
  },
  {
   "cell_type": "markdown",
   "id": "34c412b9-7d1a-41f4-a863-5b1077483e66",
   "metadata": {},
   "source": [
    "### Some of the commonly used libraries used by Data Scientists include:\n",
    "- Pandas\n",
    "- NumPy\n",
    "- SciPy\n",
    "\n"
   ]
  },
  {
   "cell_type": "markdown",
   "id": "d9a215fc-bc25-4da3-90b3-7f6da2057a98",
   "metadata": {},
   "source": [
    "| Data Science Tools |\n",
    "|--------------------|\n",
    "|RStudio|\n",
    "|Apache |\n",
    "Spark|\n",
    "| TensorFlow|\n",
    " |Apache Hadoop|\n",
    "| RapidMiner|"
   ]
  },
  {
   "cell_type": "markdown",
   "id": "73323e7f-aeee-4e4b-a39e-0d557d978b8d",
   "metadata": {},
   "source": [
    "### Below are a few examples of evaluating arithmetic expressions in Python\n",
    "- 5+3-2\n",
    "- (a*b)/c+1\n",
    "- 8%2-4^6"
   ]
  },
  {
   "cell_type": "code",
   "execution_count": 6,
   "id": "d6fe2ea0-9c42-4ca8-9995-68421059cef8",
   "metadata": {},
   "outputs": [
    {
     "data": {
      "text/plain": [
       "3.3333333333333335"
      ]
     },
     "execution_count": 6,
     "metadata": {},
     "output_type": "execute_result"
    }
   ],
   "source": [
    "200/60\n",
    "#This will convert 200 minutes to hours by diving by 60"
   ]
  },
  {
   "cell_type": "markdown",
   "id": "d5d6f17c-9c65-4ad6-a142-ccdb6abf58f4",
   "metadata": {},
   "source": [
    "### Objectives:\n",
    "* Overview of Data Science Tools\n",
    "* Languages of Data Science\n",
    "* Libraries for Data Science\n",
    "* Working with Git and GitHub\n",
    "* Working with Jupyter Notebook and RStudio"
   ]
  },
  {
   "cell_type": "markdown",
   "id": "2909d455-13ea-4e89-81e5-311a99450a5d",
   "metadata": {},
   "source": [
    "## Author\n",
    "Anagha S Shastri"
   ]
  },
  {
   "cell_type": "code",
   "execution_count": null,
   "id": "218baa3e-06fa-4f58-bca0-fa616361f968",
   "metadata": {},
   "outputs": [],
   "source": []
  }
 ],
 "metadata": {
  "kernelspec": {
   "display_name": "Python 3 (ipykernel)",
   "language": "python",
   "name": "python3"
  },
  "language_info": {
   "codemirror_mode": {
    "name": "ipython",
    "version": 3
   },
   "file_extension": ".py",
   "mimetype": "text/x-python",
   "name": "python",
   "nbconvert_exporter": "python",
   "pygments_lexer": "ipython3",
   "version": "3.11.7"
  }
 },
 "nbformat": 4,
 "nbformat_minor": 5
}
